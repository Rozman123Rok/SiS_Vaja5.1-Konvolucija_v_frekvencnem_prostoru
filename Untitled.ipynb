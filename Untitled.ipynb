{
 "cells": [
  {
   "cell_type": "code",
   "execution_count": 1,
   "metadata": {},
   "outputs": [],
   "source": [
    "# ROK ROZMAN Konvolucija v frekvenčnem prostoru\n",
    "import numpy as np\n",
    "import matplotlib.pyplot as plt\n",
    "#from matplotlib import animation\n",
    "#from IPython.display import HTML\n",
    "#import sounddevice as sd\n",
    "from scipy.io import wavfile"
   ]
  },
  {
   "cell_type": "code",
   "execution_count": 2,
   "metadata": {},
   "outputs": [],
   "source": [
    "def konv_frekvenca_mono(signal, impulz):\n",
    "    x = signal\n",
    "    h = impulz\n",
    "    N = x.shape[0]+h.shape[0]-1\n",
    "    y = np.zeros(N)\n",
    "    for n in range(N):   \n",
    "        for k in range(max(n-h.shape[0]+1,0), min(n+1, x.shape[0])):\n",
    "            y[n] = y[n]+x[k]*h[n-k]\n",
    "    y = y / np.max(np.abs(y)) # normalizirajmo\n",
    "\n",
    "    return y"
   ]
  },
  {
   "cell_type": "code",
   "execution_count": 3,
   "metadata": {},
   "outputs": [
    {
     "ename": "SyntaxError",
     "evalue": "unexpected EOF while parsing (<ipython-input-3-8fc60674e08f>, line 1)",
     "output_type": "error",
     "traceback": [
      "\u001b[0;36m  File \u001b[0;32m\"<ipython-input-3-8fc60674e08f>\"\u001b[0;36m, line \u001b[0;32m1\u001b[0m\n\u001b[0;31m    def konv_frekvenca_stereo(signal, impulz):\u001b[0m\n\u001b[0m                                              ^\u001b[0m\n\u001b[0;31mSyntaxError\u001b[0m\u001b[0;31m:\u001b[0m unexpected EOF while parsing\n"
     ]
    }
   ],
   "source": [
    "def konv_frekvenca_stereo(signal, impulz):"
   ]
  },
  {
   "cell_type": "code",
   "execution_count": 4,
   "metadata": {},
   "outputs": [
    {
     "name": "stdout",
     "output_type": "stream",
     "text": [
      "Mono\n",
      "[0.25568588 0.61013048 0.18181629 0.300849   0.62025218 0.38071019\n",
      " 0.07205096 0.25531243 0.4415407  0.33513716]\n",
      "[0.58781782 0.67554976 0.98621077]\n",
      "\n",
      "\n",
      "Stereo\n",
      "[[0.03884648 0.38639263]\n",
      " [0.05576119 0.02782532]\n",
      " [0.06992594 0.99388409]\n",
      " [0.16050297 0.43709825]\n",
      " [0.08230451 0.16384806]\n",
      " [0.75077782 0.8711641 ]\n",
      " [0.29045982 0.52693202]\n",
      " [0.71462764 0.27168259]\n",
      " [0.57387175 0.12916836]\n",
      " [0.97493028 0.62908702]]\n",
      "[[0.49267772 0.51435533]\n",
      " [0.7927173  0.29204274]\n",
      " [0.21690883 0.26428161]]\n"
     ]
    }
   ],
   "source": [
    "if __name__ == '__main__':\n",
    "    signal_mono = np.random.rand(10)\n",
    "    impulz_mono = np.random.rand(3)\n",
    "    signal_stereo = np.random.rand(10,2)\n",
    "    impulz_stereo = np.random.rand(3,2)\n",
    "    print(\"Mono\")\n",
    "    print(signal_mono)\n",
    "    print(impulz_mono)\n",
    "    print(\"\")\n",
    "    #print(konv_frekvenca_mono(signal_mono,impulz_mono))\n",
    "    print(\"\")\n",
    "    print(\"Stereo\")\n",
    "    print(signal_stereo)\n",
    "    print(impulz_stereo)\n",
    "    #print(\"\")\n",
    "    #print(konv_frekvenca_stereo(signal_stereo,impulz_stereo))"
   ]
  },
  {
   "cell_type": "code",
   "execution_count": null,
   "metadata": {},
   "outputs": [],
   "source": []
  }
 ],
 "metadata": {
  "kernelspec": {
   "display_name": "Python 3",
   "language": "python",
   "name": "python3"
  },
  "language_info": {
   "codemirror_mode": {
    "name": "ipython",
    "version": 3
   },
   "file_extension": ".py",
   "mimetype": "text/x-python",
   "name": "python",
   "nbconvert_exporter": "python",
   "pygments_lexer": "ipython3",
   "version": "3.7.4"
  }
 },
 "nbformat": 4,
 "nbformat_minor": 2
}
